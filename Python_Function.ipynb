{
  "nbformat": 4,
  "nbformat_minor": 0,
  "metadata": {
    "colab": {
      "provenance": [],
      "authorship_tag": "ABX9TyP5LvuNQlMlTCRgknMDXHF6",
      "include_colab_link": true
    },
    "kernelspec": {
      "name": "python3",
      "display_name": "Python 3"
    },
    "language_info": {
      "name": "python"
    }
  },
  "cells": [
    {
      "cell_type": "markdown",
      "metadata": {
        "id": "view-in-github",
        "colab_type": "text"
      },
      "source": [
        "<a href=\"https://colab.research.google.com/github/John-Rex-Maupoy/PLNG211QC/blob/main/Python_Function.ipynb\" target=\"_parent\"><img src=\"https://colab.research.google.com/assets/colab-badge.svg\" alt=\"Open In Colab\"/></a>"
      ]
    },
    {
      "cell_type": "code",
      "execution_count": 3,
      "metadata": {
        "colab": {
          "base_uri": "https://localhost:8080/"
        },
        "id": "8h3xDVKeMFsD",
        "outputId": "a5cdc3bd-0142-4281-8903-797a39e41acb"
      },
      "outputs": [
        {
          "output_type": "stream",
          "name": "stdout",
          "text": [
            "100\n",
            "Celsius 37.78\n",
            "Kelvin 310.93\n"
          ]
        }
      ],
      "source": [
        "def convert_to_celsius(fahrenheit):\n",
        "  return (fahrenheit-32) * 5/9\n",
        "\n",
        "def convert_to_kelvin(fahrenheit):\n",
        "  return((fahrenheit - 32) * 5/9) + 273.15\n",
        "fahrenheit = int(input())\n",
        "\n",
        "print(\"Celsius\", round(convert_to_celsius(fahrenheit),2))\n",
        "print(\"Kelvin\", round(convert_to_kelvin(fahrenheit),2))\n"
      ]
    },
    {
      "cell_type": "code",
      "source": [
        "def Name():\n",
        "  pass"
      ],
      "metadata": {
        "id": "iwiV7cj5YMp6"
      },
      "execution_count": null,
      "outputs": []
    },
    {
      "cell_type": "code",
      "source": [
        "def my_Function(fname):\n",
        "  return(fname + \"Sayo\")\n",
        "\n",
        "print(my_Function(\"Mam \"))\n",
        "print(my_Function(\"Maria \"))\n",
        "print(my_Function(\"Rizette \"))"
      ],
      "metadata": {
        "colab": {
          "base_uri": "https://localhost:8080/"
        },
        "id": "qvjUjBSBYWFT",
        "outputId": "deeeb06a-f65e-4902-a7ad-bb233103ace7"
      },
      "execution_count": 5,
      "outputs": [
        {
          "output_type": "stream",
          "name": "stdout",
          "text": [
            "Mam Sayo\n",
            "Maria Sayo\n",
            "Rizette Sayo\n"
          ]
        }
      ]
    },
    {
      "cell_type": "code",
      "source": [
        "#Returns a value\n",
        "\n",
        "def myFunction(x):\n",
        "  return(5+x)\n",
        "\n",
        "print(myFunction(4))\n",
        "print(myFunction(5))"
      ],
      "metadata": {
        "colab": {
          "base_uri": "https://localhost:8080/"
        },
        "id": "kuwt3yUsYpUT",
        "outputId": "851f4869-db43-409f-abc4-df247b39636c"
      },
      "execution_count": 6,
      "outputs": [
        {
          "output_type": "stream",
          "name": "stdout",
          "text": [
            "9\n",
            "10\n"
          ]
        }
      ]
    },
    {
      "cell_type": "code",
      "source": [
        "#Exercise No. 1\n",
        "\n",
        "print(min(2,3,4))\n",
        "print(max(2,-3, 4, 7, -5))\n",
        "print(max(2,-3, min(4,7), -5))"
      ],
      "metadata": {
        "colab": {
          "base_uri": "https://localhost:8080/"
        },
        "id": "z-3MggNMhxnY",
        "outputId": "0287f071-a892-4e08-ab77-770a98a6acf0"
      },
      "execution_count": 8,
      "outputs": [
        {
          "output_type": "stream",
          "name": "stdout",
          "text": [
            "2\n",
            "7\n",
            "4\n"
          ]
        }
      ]
    },
    {
      "cell_type": "code",
      "source": [
        "#Exercise No. 2\n",
        "\n",
        "def sumFunction(val1,val2,val3):\n",
        "  return (val1 + val2 + val3)\n",
        "def aveFunction(val1,val2,val3):\n",
        "  return (val1 + val2 + val3) / 3;\n",
        "def squaresFunction(val1,val2,val3):\n",
        "  return pow(val1, 2) + pow(val2, 2) + pow(val3, 2)\n",
        "\n",
        "val1 = int(input('Input 1st number: '))\n",
        "val2 = int(input('Input 2nd number: '))\n",
        "val3 = int(input('Input 3rd number: '))\n",
        "\n",
        "print('\\nSum: ', sumFunction(val1,val2,val3))\n",
        "print('Average: ', aveFunction(val1,val2,val3))\n",
        "print('Sum of Squares: ', squaresFunction(val1,val2,val3))"
      ],
      "metadata": {
        "colab": {
          "base_uri": "https://localhost:8080/"
        },
        "id": "cIu8Yj78iqAK",
        "outputId": "5b2d8bf9-d6fb-491f-8753-bb06ec347beb"
      },
      "execution_count": 15,
      "outputs": [
        {
          "output_type": "stream",
          "name": "stdout",
          "text": [
            "Input 1st number: 2\n",
            "Input 2nd number: 3\n",
            "Input 3rd number: 4\n",
            "\n",
            "Sum:  9\n",
            "Average:  3.0\n",
            "Sum of Squares:  29\n"
          ]
        }
      ]
    }
  ]
}