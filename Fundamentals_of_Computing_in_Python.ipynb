{
  "nbformat": 4,
  "nbformat_minor": 0,
  "metadata": {
    "colab": {
      "provenance": [],
      "authorship_tag": "ABX9TyOWYJ7y0rgj1uPDHvjY9ZZi",
      "include_colab_link": true
    },
    "kernelspec": {
      "name": "python3",
      "display_name": "Python 3"
    },
    "language_info": {
      "name": "python"
    }
  },
  "cells": [
    {
      "cell_type": "markdown",
      "metadata": {
        "id": "view-in-github",
        "colab_type": "text"
      },
      "source": [
        "<a href=\"https://colab.research.google.com/github/John-Rex-Maupoy/PLNG211QC/blob/main/Fundamentals_of_Computing_in_Python.ipynb\" target=\"_parent\"><img src=\"https://colab.research.google.com/assets/colab-badge.svg\" alt=\"Open In Colab\"/></a>"
      ]
    },
    {
      "cell_type": "markdown",
      "source": [
        "Variables and Data Types"
      ],
      "metadata": {
        "id": "BoMEHFoOD_28"
      }
    },
    {
      "cell_type": "code",
      "source": [
        "#Numbers\n",
        "varNum = 123\n",
        "pi = 3.14159\n",
        "\n",
        "#Strings\n",
        "varString = \"Hello World!\"\n",
        "varText = 'This is a String'\n",
        "\n",
        "#List\n",
        "varList = [\"abc\", 123]\n",
        "\n",
        "#Tuples\n",
        "varTuple = ('abc', 123, \"HELLO\")\n",
        "\n",
        "#Dictionaries\n",
        "var = 3\n",
        "varDict = {'first':1, '2': '2nd', 3:var}\n",
        "\n",
        "varDict = {}\n",
        "varDict['first'] = 1\n",
        "varDict['2'] = '2nd'\n",
        "varDict[3] = var\n"
      ],
      "metadata": {
        "id": "Pp-uDSlnEFEw"
      },
      "execution_count": 1,
      "outputs": []
    },
    {
      "cell_type": "markdown",
      "source": [
        "Arithmetic"
      ],
      "metadata": {
        "id": "DNsZ3I7OFPiz"
      }
    },
    {
      "cell_type": "code",
      "source": [
        "#Addition\n",
        "a = 5 + 3\n",
        "print(a)\n",
        "\n",
        "#Subtraction\n",
        "a = 5 - 3\n",
        "print(a)\n",
        "\n",
        "#Multiplication\n",
        "a = 5 * 3\n",
        "print(a)\n",
        "\n",
        "#Exponent\n",
        "a = 5 ** 3\n",
        "print(a)\n",
        "\n",
        "#Division\n",
        "a = 5 / 3\n",
        "print(a)\n",
        "\n",
        "#Modulo\n",
        "a = 5 % 3\n",
        "print(a)\n",
        "\n",
        "#Floor Division\n",
        "a = 5 // 3\n",
        "print(a)\n",
        "\n",
        "#Increment/Decrement\n",
        "a = 5\n",
        "a += 1\n",
        "print(a)\n",
        "\n",
        "a -= 1\n",
        "print(a)\n",
        "\n",
        "#String Concatenation\n",
        "a = 'Hello ' + 'World'\n",
        "print(a)\n",
        "\n",
        "#Complex Expression\n",
        "a = 3 + 5 - 6 * 2 / 4\n",
        "print(a)"
      ],
      "metadata": {
        "colab": {
          "base_uri": "https://localhost:8080/"
        },
        "id": "SDkjzZkdFTIG",
        "outputId": "50d35ff5-002e-40de-82dd-6b972ac33d22"
      },
      "execution_count": 2,
      "outputs": [
        {
          "output_type": "stream",
          "name": "stdout",
          "text": [
            "8\n",
            "2\n",
            "15\n",
            "125\n",
            "1.6666666666666667\n",
            "2\n",
            "1\n",
            "6\n",
            "5\n",
            "Hello World\n",
            "5.0\n"
          ]
        }
      ]
    },
    {
      "cell_type": "markdown",
      "source": [
        "Control Statements"
      ],
      "metadata": {
        "id": "F2pmncSZHKqK"
      }
    },
    {
      "cell_type": "code",
      "source": [
        "#Boolean Conditions\n",
        "x = True\n",
        "if x:\n",
        "  print(\"var x is true\")\n",
        "else:\n",
        "  print(\"var x is false\")\n",
        "\n",
        "#String Conditions\n",
        "\n",
        "x = \"Hello World!\"\n",
        "\n",
        "if x == 'Hello World!':\n",
        "  print(\"var x is Hello World!\")\n",
        "else:\n",
        "  print(\"var x is not Hello World!\")\n",
        "\n",
        "#Numerical Conditions\n",
        "\n",
        "x = 10\n",
        "\n",
        "if x == '10':\n",
        "  print(\"var is a string\")\n",
        "elif x == 10:\n",
        "  print(\"var is an integer\")\n",
        "else: \n",
        "  print(\"var is none of the above\")\n"
      ],
      "metadata": {
        "colab": {
          "base_uri": "https://localhost:8080/"
        },
        "id": "_yBX10NYHSv5",
        "outputId": "8ba979d2-786a-429c-de2c-7cd3554cbf74"
      },
      "execution_count": 3,
      "outputs": [
        {
          "output_type": "stream",
          "name": "stdout",
          "text": [
            "var x is true\n",
            "var x is Hello World!\n",
            "var is an integer\n"
          ]
        }
      ]
    },
    {
      "cell_type": "markdown",
      "source": [
        "Loops"
      ],
      "metadata": {
        "id": "cjKM_wH8ILXx"
      }
    },
    {
      "cell_type": "markdown",
      "source": [
        "For Loops"
      ],
      "metadata": {
        "id": "F5Co3sG_IOLV"
      }
    },
    {
      "cell_type": "code",
      "execution_count": 5,
      "metadata": {
        "colab": {
          "base_uri": "https://localhost:8080/"
        },
        "id": "4j5GBw7q6-Od",
        "outputId": "62d1d304-7b59-4a33-b047-81fe2c639943"
      },
      "outputs": [
        {
          "output_type": "stream",
          "name": "stdout",
          "text": [
            "0\n",
            "2\n",
            "4\n",
            "\n",
            "2\n",
            "3\n",
            "4\n"
          ]
        }
      ],
      "source": [
        "for var in range(0,5,2):\n",
        "  print(var)\n",
        "\n",
        "print()\n",
        "\n",
        "for var in range(2,5):\n",
        "  print(var)\n",
        "\n"
      ]
    },
    {
      "cell_type": "markdown",
      "source": [
        "While Loops"
      ],
      "metadata": {
        "id": "4zNTqUR7IktK"
      }
    },
    {
      "cell_type": "code",
      "source": [
        "var = 0\n",
        "while var < 5:\n",
        "  print(var)\n",
        "  var += 2"
      ],
      "metadata": {
        "colab": {
          "base_uri": "https://localhost:8080/"
        },
        "id": "_q1DT8ilImee",
        "outputId": "51a1a9b9-ca59-458b-dca6-fb6dc3947a81"
      },
      "execution_count": 6,
      "outputs": [
        {
          "output_type": "stream",
          "name": "stdout",
          "text": [
            "0\n",
            "2\n",
            "4\n"
          ]
        }
      ]
    },
    {
      "cell_type": "markdown",
      "source": [
        "Nested Loops"
      ],
      "metadata": {
        "id": "M6Ys75U2IttX"
      }
    },
    {
      "cell_type": "code",
      "source": [
        "x = 0 \n",
        "\n",
        "while x < 5:\n",
        "  for y in range(0,x):\n",
        "    print(y,end='')\n",
        "  x += 1\n",
        "  print()"
      ],
      "metadata": {
        "colab": {
          "base_uri": "https://localhost:8080/"
        },
        "id": "sVnQm7VIIvB0",
        "outputId": "8b35083e-170a-4118-902e-07cae54bc93d"
      },
      "execution_count": 7,
      "outputs": [
        {
          "output_type": "stream",
          "name": "stdout",
          "text": [
            "\n",
            "0\n",
            "01\n",
            "012\n",
            "0123\n"
          ]
        }
      ]
    },
    {
      "cell_type": "markdown",
      "source": [
        "List"
      ],
      "metadata": {
        "id": "8NySqXu3JWKi"
      }
    },
    {
      "cell_type": "code",
      "source": [
        "pi = 3.14159\n",
        "varList = [1,2, 'A', 'B', 'Hello', pi]\n",
        "print(varList[0])\n",
        "print(varList[4])\n",
        "\n",
        "varList.append('World!')\n",
        "print(varList[6])\n",
        "\n",
        "len(varList)\n",
        "\n",
        "print(varList[5])\n",
        "\n",
        "varList.remove(pi)\n",
        "print(varList[5])"
      ],
      "metadata": {
        "colab": {
          "base_uri": "https://localhost:8080/"
        },
        "id": "Hu3-N9r9JW9W",
        "outputId": "d26a6451-e666-4ec3-9d3f-ad2a43922886"
      },
      "execution_count": 8,
      "outputs": [
        {
          "output_type": "stream",
          "name": "stdout",
          "text": [
            "1\n",
            "Hello\n",
            "World!\n",
            "3.14159\n",
            "World!\n"
          ]
        }
      ]
    },
    {
      "cell_type": "markdown",
      "source": [
        "List Slicing"
      ],
      "metadata": {
        "id": "0szZj1FUB94W"
      }
    },
    {
      "cell_type": "code",
      "source": [
        "varList = [1,2,3,4,5,6,7,8,9,10]\n",
        "print(varList[:5])\n",
        "print(varList[5:])\n",
        "print(varList[:-2])\n",
        "print(varList[-2:])\n",
        "print(varList[2:-2])\n",
        "print(varList[2:8:2])"
      ],
      "metadata": {
        "id": "ZgA1_Fc7-vfQ",
        "colab": {
          "base_uri": "https://localhost:8080/"
        },
        "outputId": "d965bb29-dae8-4449-c3fa-bfb1e7c92298"
      },
      "execution_count": null,
      "outputs": [
        {
          "output_type": "stream",
          "name": "stdout",
          "text": [
            "[1, 2, 3, 4, 5]\n",
            "[6, 7, 8, 9, 10]\n",
            "[1, 2, 3, 4, 5, 6, 7, 8]\n",
            "[9, 10]\n",
            "[3, 4, 5, 6, 7, 8]\n",
            "[3, 5, 7]\n"
          ]
        }
      ]
    },
    {
      "cell_type": "markdown",
      "source": [
        "Output of Program Codes"
      ],
      "metadata": {
        "id": "DdHqSRpGKSor"
      }
    },
    {
      "cell_type": "code",
      "source": [
        "var1,var2,var3 = \"ABC\", \"DEF\", \"GHI\"\n",
        "print(var1)\n",
        "print(var2)\n",
        "print(var3)\n",
        "\n",
        "print()\n",
        "\n",
        "a = b = c = \"123\"\n",
        "print(a)\n",
        "print(b)\n",
        "print(c)"
      ],
      "metadata": {
        "colab": {
          "base_uri": "https://localhost:8080/"
        },
        "id": "cY_EA84JKWgI",
        "outputId": "4535f564-640e-442d-be1d-8b5b849bb927"
      },
      "execution_count": 10,
      "outputs": [
        {
          "output_type": "stream",
          "name": "stdout",
          "text": [
            "ABC\n",
            "DEF\n",
            "GHI\n",
            "\n",
            "123\n",
            "123\n",
            "123\n"
          ]
        }
      ]
    }
  ]
}