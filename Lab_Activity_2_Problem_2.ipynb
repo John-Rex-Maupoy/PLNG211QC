{
  "nbformat": 4,
  "nbformat_minor": 0,
  "metadata": {
    "colab": {
      "provenance": [],
      "authorship_tag": "ABX9TyNtwc+CZmW+q7ke+V7pffTC",
      "include_colab_link": true
    },
    "kernelspec": {
      "name": "python3",
      "display_name": "Python 3"
    },
    "language_info": {
      "name": "python"
    }
  },
  "cells": [
    {
      "cell_type": "markdown",
      "metadata": {
        "id": "view-in-github",
        "colab_type": "text"
      },
      "source": [
        "<a href=\"https://colab.research.google.com/github/John-Rex-Maupoy/PLNG211QC/blob/main/Lab_Activity_2_Problem_2.ipynb\" target=\"_parent\"><img src=\"https://colab.research.google.com/assets/colab-badge.svg\" alt=\"Open In Colab\"/></a>"
      ]
    },
    {
      "cell_type": "code",
      "execution_count": 7,
      "metadata": {
        "colab": {
          "base_uri": "https://localhost:8080/"
        },
        "id": "0x_hJcu5O8Gs",
        "outputId": "3df2fdb9-fe4b-4ea5-a2e5-2ab8b5e53580"
      },
      "outputs": [
        {
          "output_type": "stream",
          "name": "stdout",
          "text": [
            "Name: John Rex O. Maupoy \n",
            "Student No.: 02210005421 \n",
            "Age: 20 \n",
            "School: OLFU \n",
            "Course: BSCS\n"
          ]
        }
      ],
      "source": [
        "class Student:\n",
        "    def __init__(self, Name, Student_No, Age, School, Course):\n",
        "      self.Name = Name\n",
        "      self.Student_No = Student_No\n",
        "      self.Age = Age\n",
        "      self.School = School\n",
        "      self.Course = Course\n",
        "    def Info(self):\n",
        "      print(\"Name: \" + self.Name, \"\\nStudent No.: \" + self.Student_No, \"\\nAge: \" + self.Age, \"\\nSchool: \" + self.School, \"\\nCourse: \" + self.Course)\n",
        "\n",
        "Myself = Student(\"John Rex O. Maupoy\", \"02210005421\", \"20\", \"OLFU\", \"BSCS\")\n",
        "Myself.Info()\n",
        "\n"
      ]
    }
  ]
}