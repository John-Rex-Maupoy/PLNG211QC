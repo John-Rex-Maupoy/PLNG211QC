{
  "nbformat": 4,
  "nbformat_minor": 0,
  "metadata": {
    "colab": {
      "provenance": [],
      "authorship_tag": "ABX9TyP4OahKXm7GCnql9yku/XlU",
      "include_colab_link": true
    },
    "kernelspec": {
      "name": "python3",
      "display_name": "Python 3"
    },
    "language_info": {
      "name": "python"
    }
  },
  "cells": [
    {
      "cell_type": "markdown",
      "metadata": {
        "id": "view-in-github",
        "colab_type": "text"
      },
      "source": [
        "<a href=\"https://colab.research.google.com/github/John-Rex-Maupoy/PLNG211QC/blob/main/Control_and_Looping_Statement.ipynb\" target=\"_parent\"><img src=\"https://colab.research.google.com/assets/colab-badge.svg\" alt=\"Open In Colab\"/></a>"
      ]
    },
    {
      "cell_type": "markdown",
      "source": [
        "If Statement"
      ],
      "metadata": {
        "id": "p7guaQUA4Moa"
      }
    },
    {
      "cell_type": "code",
      "execution_count": null,
      "metadata": {
        "id": "cULfJzlO4JEx"
      },
      "outputs": [],
      "source": [
        "a = 100\n",
        "b = 100 \n",
        "\n",
        "if a < b:\n",
        "  print(\"a is less than b\")"
      ]
    },
    {
      "cell_type": "markdown",
      "source": [
        "Elif Statement"
      ],
      "metadata": {
        "id": "v5BcctRR4lTc"
      }
    },
    {
      "cell_type": "code",
      "source": [
        "if a < b:\n",
        "  print('a is less than b')\n",
        "elif a > b:\n",
        "  print(\"a is greater than b\")\n",
        "else:\n",
        "  print(\"a is equal to b\")\n"
      ],
      "metadata": {
        "id": "4AEphLMe4q10"
      },
      "execution_count": null,
      "outputs": []
    },
    {
      "cell_type": "markdown",
      "source": [
        "Short Hand If Statement"
      ],
      "metadata": {
        "id": "Fy4YB_H-5SWS"
      }
    },
    {
      "cell_type": "code",
      "source": [
        "c = 10\n",
        "d = 5\n",
        "\n",
        "if c > d: print(\"c > d\")\n"
      ],
      "metadata": {
        "id": "FlzVNbeT5UxL"
      },
      "execution_count": null,
      "outputs": []
    },
    {
      "cell_type": "markdown",
      "source": [
        "Short Hand If.. Else Statement"
      ],
      "metadata": {
        "id": "C8sk88T15bAS"
      }
    },
    {
      "cell_type": "code",
      "source": [
        "print('c > d') if c > d else print('d > c')"
      ],
      "metadata": {
        "id": "iwZPJ9G75eWd"
      },
      "execution_count": null,
      "outputs": []
    },
    {
      "cell_type": "markdown",
      "source": [
        "And Statement"
      ],
      "metadata": {
        "id": "uR4uqYN-6Cwr"
      }
    },
    {
      "cell_type": "code",
      "source": [
        "if 10 > 5 and  8 > 4:\n",
        "  print(\"Both statement are true\")\n",
        "else:\n",
        "  print(\"One of the statement is flase /both statements are not true\")"
      ],
      "metadata": {
        "colab": {
          "base_uri": "https://localhost:8080/"
        },
        "id": "HFm3a8O66QnK",
        "outputId": "f1c7b6a5-aad6-4243-fdfa-f3ff84ad2f46"
      },
      "execution_count": 1,
      "outputs": [
        {
          "output_type": "stream",
          "name": "stdout",
          "text": [
            "Both statement are true\n"
          ]
        }
      ]
    },
    {
      "cell_type": "markdown",
      "source": [
        "Or Statement\n"
      ],
      "metadata": {
        "id": "BWQZ0DZk7MIn"
      }
    },
    {
      "cell_type": "code",
      "source": [
        "if 5 > 10 or 8 > 4:\n",
        "  print('True')\n",
        "else:\n",
        "  print('False')"
      ],
      "metadata": {
        "colab": {
          "base_uri": "https://localhost:8080/"
        },
        "id": "oPAuRWYg7NNv",
        "outputId": "4e5d082b-7638-4120-ec05-f4312beee117"
      },
      "execution_count": 2,
      "outputs": [
        {
          "output_type": "stream",
          "name": "stdout",
          "text": [
            "True\n"
          ]
        }
      ]
    },
    {
      "cell_type": "markdown",
      "source": [
        "Bitwise Operator ^ (xor)"
      ],
      "metadata": {
        "id": "pHu1lnwN7946"
      }
    },
    {
      "cell_type": "code",
      "source": [
        "e = 4 #Binary : 0100\n",
        "f = 2 #Binary : 0010\n",
        "\n",
        "e ^ f\n"
      ],
      "metadata": {
        "colab": {
          "base_uri": "https://localhost:8080/"
        },
        "id": "qOIDPhnt8CFq",
        "outputId": "f8e97713-5dec-47f9-a5fd-bee3bc5c34ee"
      },
      "execution_count": 3,
      "outputs": [
        {
          "output_type": "execute_result",
          "data": {
            "text/plain": [
              "6"
            ]
          },
          "metadata": {},
          "execution_count": 3
        }
      ]
    },
    {
      "cell_type": "markdown",
      "source": [
        "Nested If Statement"
      ],
      "metadata": {
        "id": "bRZ3IUB49kTM"
      }
    },
    {
      "cell_type": "code",
      "source": [
        "x = 39\n",
        "\n",
        "if x > 10:\n",
        "  print('Number is above 10')\n",
        "  if x > 20:\n",
        "    print('Number is above 20')\n",
        "    if x > 30:\n",
        "      print('Number is above 30')\n",
        "      if x > 40:\n",
        "        print('Number is above 40')\n",
        "        if x > 50:\n",
        "          print('Number is above 50')\n",
        "        else:\n",
        "          print('Number is less than 50')\n",
        "      else:\n",
        "        print('Number is less than 40')"
      ],
      "metadata": {
        "colab": {
          "base_uri": "https://localhost:8080/"
        },
        "id": "_hi1dB_i9oFG",
        "outputId": "4266aea0-b43c-4811-c7ef-ac7677c4e71c"
      },
      "execution_count": 6,
      "outputs": [
        {
          "output_type": "stream",
          "name": "stdout",
          "text": [
            "Number is above 10\n",
            "Number is above 20\n",
            "Number is above 30\n",
            "Number is less than 40\n"
          ]
        }
      ]
    },
    {
      "cell_type": "markdown",
      "source": [
        "For Loop Statement"
      ],
      "metadata": {
        "id": "q6KqW_OLC4Vl"
      }
    },
    {
      "cell_type": "code",
      "source": [
        "week = [\"Sunday\", \"Monday\", \"Tuesday\", \"Wednesday\", \"Thursday\", \"Friday\", \"Saturday\"]\n",
        "\n",
        "for y in week:\n",
        "  print(y)"
      ],
      "metadata": {
        "colab": {
          "base_uri": "https://localhost:8080/"
        },
        "id": "6iBe8f4ZC6Gr",
        "outputId": "63db0769-77ee-4c83-d054-fdb7c77341eb"
      },
      "execution_count": 16,
      "outputs": [
        {
          "output_type": "stream",
          "name": "stdout",
          "text": [
            "Sunday\n",
            "Monday\n",
            "Tuesday\n",
            "Wednesday\n",
            "Thursday\n",
            "Friday\n",
            "Saturday\n"
          ]
        }
      ]
    },
    {
      "cell_type": "code",
      "source": [
        "week = [\"Sunday\", \"Monday\", \"Tuesday\", \"Wednesday\", \"Thursday\", \"Friday\", \"Saturday\"]\n",
        "\n",
        "for y in week:\n",
        "  print(y)\n",
        "  if y == \"Thursday\":\n",
        "    break"
      ],
      "metadata": {
        "colab": {
          "base_uri": "https://localhost:8080/"
        },
        "id": "o0-e-7pMDv6g",
        "outputId": "3ec0a884-f046-484a-93c9-56dc0a165777"
      },
      "execution_count": 17,
      "outputs": [
        {
          "output_type": "stream",
          "name": "stdout",
          "text": [
            "Sunday\n",
            "Monday\n",
            "Tuesday\n",
            "Wednesday\n",
            "Thursday\n"
          ]
        }
      ]
    },
    {
      "cell_type": "code",
      "source": [
        "week = [\"Sunday\", \"Monday\", \"Tuesday\", \"Wednesday\", \"Thursday\", \"Friday\", \"Saturday\"]\n",
        "\n",
        "for y in week:\n",
        "  if y == \"Thursday\":\n",
        "    break\n",
        "  print(y)"
      ],
      "metadata": {
        "colab": {
          "base_uri": "https://localhost:8080/"
        },
        "id": "1ubi8t47EnWi",
        "outputId": "e6c986b7-1c21-4e46-8a19-5f0c6b7495cc"
      },
      "execution_count": 18,
      "outputs": [
        {
          "output_type": "stream",
          "name": "stdout",
          "text": [
            "Sunday\n",
            "Monday\n",
            "Tuesday\n",
            "Wednesday\n"
          ]
        }
      ]
    },
    {
      "cell_type": "markdown",
      "source": [
        "Range() Function"
      ],
      "metadata": {
        "id": "1rde0DTIE_pZ"
      }
    },
    {
      "cell_type": "code",
      "source": [
        "for x in range(6):\n",
        "  print(x)"
      ],
      "metadata": {
        "colab": {
          "base_uri": "https://localhost:8080/"
        },
        "id": "gJ8ttyAbFQKH",
        "outputId": "83f2b258-b031-4db8-e646-21a857d3f45e"
      },
      "execution_count": 19,
      "outputs": [
        {
          "output_type": "stream",
          "name": "stdout",
          "text": [
            "0\n",
            "1\n",
            "2\n",
            "3\n",
            "4\n",
            "5\n"
          ]
        }
      ]
    },
    {
      "cell_type": "code",
      "source": [
        "for x in range(2, 6+1, 1):\n",
        "  print(x)"
      ],
      "metadata": {
        "colab": {
          "base_uri": "https://localhost:8080/"
        },
        "id": "s6DHni7TGU2T",
        "outputId": "dcb083c3-30f2-470c-85c7-13dbd81d4156"
      },
      "execution_count": 20,
      "outputs": [
        {
          "output_type": "stream",
          "name": "stdout",
          "text": [
            "2\n",
            "3\n",
            "4\n",
            "5\n",
            "6\n"
          ]
        }
      ]
    },
    {
      "cell_type": "code",
      "source": [
        "adjective = [\"red\", \"big\", \"tasty\"]\n",
        "fruits = [\"apple\", \"banana\", \"cherry\"]\n",
        "\n",
        "for x in adjective:\n",
        "  for y in fruits:\n",
        "    print(x,y)"
      ],
      "metadata": {
        "colab": {
          "base_uri": "https://localhost:8080/"
        },
        "id": "6ztbafSnGys0",
        "outputId": "9a527e71-10ac-4387-f0b2-3f4ea3d7bd5d"
      },
      "execution_count": 21,
      "outputs": [
        {
          "output_type": "stream",
          "name": "stdout",
          "text": [
            "red apple\n",
            "red banana\n",
            "red cherry\n",
            "big apple\n",
            "big banana\n",
            "big cherry\n",
            "tasty apple\n",
            "tasty banana\n",
            "tasty cherry\n"
          ]
        }
      ]
    },
    {
      "cell_type": "code",
      "source": [
        "i = 1\n",
        "\n",
        "while i <= 6:\n",
        "  print(i)\n",
        "  if i == 3:\n",
        "    break\n",
        "  i += 1"
      ],
      "metadata": {
        "colab": {
          "base_uri": "https://localhost:8080/"
        },
        "id": "LFeCJaMcILKV",
        "outputId": "45f8c60d-d111-47fa-e0c4-89c41724d76d"
      },
      "execution_count": 22,
      "outputs": [
        {
          "output_type": "stream",
          "name": "stdout",
          "text": [
            "1\n",
            "2\n",
            "3\n"
          ]
        }
      ]
    },
    {
      "cell_type": "markdown",
      "source": [
        "Application 1"
      ],
      "metadata": {
        "id": "lV5YBY05_Oq6"
      }
    },
    {
      "cell_type": "code",
      "source": [
        "#Write a program that determines if the input age is qualified to vote or not\n",
        "#The qualifying age is 18 years old and above\n",
        "\n",
        "age = int(input(\"Enter your age:\"))\n",
        "#age = 18\n",
        "\n",
        "if age >= 18:\n",
        "  print('Qualified to vote')\n",
        "else:\n",
        "  print('Not qualified to vote')"
      ],
      "metadata": {
        "colab": {
          "base_uri": "https://localhost:8080/"
        },
        "id": "hI2_WGwx_Q3I",
        "outputId": "8fa59316-d2dd-410f-cecf-a89bb548a1a7"
      },
      "execution_count": 33,
      "outputs": [
        {
          "output_type": "stream",
          "name": "stdout",
          "text": [
            "Enter your age:14\n",
            "Not qualified to vote\n"
          ]
        }
      ]
    },
    {
      "cell_type": "markdown",
      "source": [
        "Application 2"
      ],
      "metadata": {
        "id": "YkkPCJ-IANmn"
      }
    },
    {
      "cell_type": "code",
      "source": [
        "# Write a program that determines if the input number is POSITIVE, NEGATIVE, or ZERO\n",
        "\n",
        "num = int(input(\"Enter number: \"))\n",
        "\n",
        "if num > 0:\n",
        "  print(\"The number is POSITIVE\")\n",
        "elif num < 0:\n",
        "  print(\"The number is NEGATIVE\")\n",
        "else:\n",
        "  print(\"The number is ZERO\")"
      ],
      "metadata": {
        "colab": {
          "base_uri": "https://localhost:8080/"
        },
        "id": "xMMpmV_gK6Wz",
        "outputId": "3a47bb0a-dea1-4679-a791-7ca9d11c9c6a"
      },
      "execution_count": 32,
      "outputs": [
        {
          "output_type": "stream",
          "name": "stdout",
          "text": [
            "Enter number: 0\n",
            "The number is ZERO\n"
          ]
        }
      ]
    },
    {
      "cell_type": "markdown",
      "source": [
        "Application 3"
      ],
      "metadata": {
        "id": "d9e6OZKMKymh"
      }
    },
    {
      "cell_type": "code",
      "source": [
        "# Using while loop and break statement, the output is only 3\n",
        "\n",
        "i = 1\n",
        "\n",
        "while i <= 6:\n",
        "  if i == 3:\n",
        "    print(i)\n",
        "    break\n",
        "  i += 1"
      ],
      "metadata": {
        "colab": {
          "base_uri": "https://localhost:8080/"
        },
        "id": "9EC89qqrIfHu",
        "outputId": "e77209ef-3378-44ca-99ce-3f4309c3c278"
      },
      "execution_count": 27,
      "outputs": [
        {
          "output_type": "stream",
          "name": "stdout",
          "text": [
            "3\n"
          ]
        }
      ]
    }
  ]
}