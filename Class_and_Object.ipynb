{
  "nbformat": 4,
  "nbformat_minor": 0,
  "metadata": {
    "colab": {
      "provenance": [],
      "authorship_tag": "ABX9TyP+8wMobzgsW2OF3NOpw8Mf",
      "include_colab_link": true
    },
    "kernelspec": {
      "name": "python3",
      "display_name": "Python 3"
    },
    "language_info": {
      "name": "python"
    }
  },
  "cells": [
    {
      "cell_type": "markdown",
      "metadata": {
        "id": "view-in-github",
        "colab_type": "text"
      },
      "source": [
        "<a href=\"https://colab.research.google.com/github/John-Rex-Maupoy/PLNG211QC/blob/main/Class_and_Object.ipynb\" target=\"_parent\"><img src=\"https://colab.research.google.com/assets/colab-badge.svg\" alt=\"Open In Colab\"/></a>"
      ]
    },
    {
      "cell_type": "code",
      "source": [
        "class Person:\n",
        "  def __init__(self,name,age):\n",
        "    self.name = name\n",
        "    self.age = age\n",
        "\n",
        "  def Name(self,name):\n",
        "    print(\"The person is\"+self.name)\n",
        "\n",
        "person1 = Person(\"Ana\",36)\n",
        "print(\"The name of the person is:\", person1.name)\n",
        "print(\"The age of the person is:\", person1.age)"
      ],
      "metadata": {
        "colab": {
          "base_uri": "https://localhost:8080/"
        },
        "id": "qB5IJFq5XaEt",
        "outputId": "4cdb79ff-f24c-4d13-f495-7f086e1eddeb"
      },
      "execution_count": 14,
      "outputs": [
        {
          "output_type": "stream",
          "name": "stdout",
          "text": [
            "The name of the person is: Ana\n",
            "The age of the person is: 36\n"
          ]
        }
      ]
    },
    {
      "cell_type": "code",
      "execution_count": 12,
      "metadata": {
        "colab": {
          "base_uri": "https://localhost:8080/"
        },
        "id": "keF8fQ_rPZYf",
        "outputId": "a0ab6a5c-b9d3-433f-8a47-99f461d5f179"
      },
      "outputs": [
        {
          "output_type": "stream",
          "name": "stdout",
          "text": [
            "The name of the person is: Ana\n",
            "The age of the person is: 36\n",
            "\n",
            "The name of the student is: Lino\n",
            "The age of the student is: 32\n",
            "\n",
            "The name of the teacher is: Maria\n",
            "The age of the teacher is: 39\n"
          ]
        }
      ],
      "source": [
        "class Person:\n",
        "  def __init__(self,name,age):\n",
        "    self.name = name\n",
        "    self.age = age\n",
        "\n",
        "class Student(Person):\n",
        "  pass\n",
        "\n",
        "class Teacher(Person):\n",
        "  pass\n",
        "\n",
        "person1 = Person(\"Ana\",36)\n",
        "print(\"The name of the person is:\",person1.name)\n",
        "print(\"The age of the person is:\",person1.age)\n",
        "\n",
        "person2 = Student(\"Lino\",32)\n",
        "print(\"\\nThe name of the student is:\",person2.name)\n",
        "print(\"The age of the student is:\",person2.age)\n",
        "\n",
        "person3 = Teacher(\"Maria\", 39)\n",
        "print(\"\\nThe name of the teacher is:\", person3.name)\n",
        "print(\"The age of the teacher is:\", person3.age)\n"
      ]
    },
    {
      "cell_type": "code",
      "source": [
        "person2.age = 30 \n",
        "print(\"The name and age of the student\", person2.name + \"\\t\" + \"is\" + \"\\t\" + str(person2.age))"
      ],
      "metadata": {
        "colab": {
          "base_uri": "https://localhost:8080/"
        },
        "id": "ltlh0XnZYFvV",
        "outputId": "2dc771f4-9126-484f-dee2-e46ccb45364c"
      },
      "execution_count": 15,
      "outputs": [
        {
          "output_type": "stream",
          "name": "stdout",
          "text": [
            "The name and age of the student Lino\tis\t30\n"
          ]
        }
      ]
    },
    {
      "cell_type": "code",
      "source": [
        "person3.name = \"David\"\n",
        "print(\"The name of the teacher is:\", person3.name)\n",
        "person3.age = 39\n",
        "print(\"The age of the teacher is:\", person3.age)\n",
        "\n",
        "del person3.age\n",
        "del person3.name\n",
        "print(\"The name of the teacher is:\", person3.name)\n",
        "print(\"The age of the teacher is:\", person3.age)"
      ],
      "metadata": {
        "colab": {
          "base_uri": "https://localhost:8080/",
          "height": 254
        },
        "id": "wr5_g1bOYaU3",
        "outputId": "ecda83d4-eb26-478d-d0f7-eab4ff123209"
      },
      "execution_count": 23,
      "outputs": [
        {
          "output_type": "stream",
          "name": "stdout",
          "text": [
            "The name of the teacher is: David\n",
            "The age of the teacher is: 39\n"
          ]
        },
        {
          "output_type": "error",
          "ename": "AttributeError",
          "evalue": "ignored",
          "traceback": [
            "\u001b[0;31m---------------------------------------------------------------------------\u001b[0m",
            "\u001b[0;31mAttributeError\u001b[0m                            Traceback (most recent call last)",
            "\u001b[0;32m<ipython-input-23-ae9e22b91ab1>\u001b[0m in \u001b[0;36m<module>\u001b[0;34m\u001b[0m\n\u001b[1;32m      6\u001b[0m \u001b[0;32mdel\u001b[0m \u001b[0mperson3\u001b[0m\u001b[0;34m.\u001b[0m\u001b[0mage\u001b[0m\u001b[0;34m\u001b[0m\u001b[0;34m\u001b[0m\u001b[0m\n\u001b[1;32m      7\u001b[0m \u001b[0;32mdel\u001b[0m \u001b[0mperson3\u001b[0m\u001b[0;34m.\u001b[0m\u001b[0mname\u001b[0m\u001b[0;34m\u001b[0m\u001b[0;34m\u001b[0m\u001b[0m\n\u001b[0;32m----> 8\u001b[0;31m \u001b[0mprint\u001b[0m\u001b[0;34m(\u001b[0m\u001b[0;34m\"The name of the teacher is:\"\u001b[0m\u001b[0;34m,\u001b[0m \u001b[0mperson3\u001b[0m\u001b[0;34m.\u001b[0m\u001b[0mname\u001b[0m\u001b[0;34m)\u001b[0m\u001b[0;34m\u001b[0m\u001b[0;34m\u001b[0m\u001b[0m\n\u001b[0m\u001b[1;32m      9\u001b[0m \u001b[0mprint\u001b[0m\u001b[0;34m(\u001b[0m\u001b[0;34m\"The age of the teacher is:\"\u001b[0m\u001b[0;34m,\u001b[0m \u001b[0mperson3\u001b[0m\u001b[0;34m.\u001b[0m\u001b[0mage\u001b[0m\u001b[0;34m)\u001b[0m\u001b[0;34m\u001b[0m\u001b[0;34m\u001b[0m\u001b[0m\n",
            "\u001b[0;31mAttributeError\u001b[0m: 'Teacher' object has no attribute 'name'"
          ]
        }
      ]
    },
    {
      "cell_type": "code",
      "source": [
        "#Application 1. Write a Rectangle class in Python language with length and width as attributes\n",
        "#Create a Perimeter() and Area () as methods to compute for the perimeter and area of rectangle\n",
        "\n",
        "class Rectangle:\n",
        "  def __init__(self,length,width):\n",
        "    self.length = length\n",
        "    self.width = width\n",
        "\n",
        "  def Perimeter(self):\n",
        "    return (2 * self.length) + (2 * self.width)\n",
        "  \n",
        "  def Area(self):\n",
        "    return self.length * self.width\n",
        "\n",
        "length = int(input(\"Input the length: \"))\n",
        "width = int(input(\"Input the width: \"))\n",
        "\n",
        "size = Rectangle(length, width)\n",
        "\n",
        "print(\"\\nThe perimeter is:\", size.Perimeter())\n",
        "print(\"The area is:\", size.Area())\n",
        "\n",
        "\n"
      ],
      "metadata": {
        "colab": {
          "base_uri": "https://localhost:8080/"
        },
        "id": "RDWdC2k2ZOUN",
        "outputId": "ca65dc5c-38a3-4c6f-c77c-b3c47d14ac96"
      },
      "execution_count": 31,
      "outputs": [
        {
          "output_type": "stream",
          "name": "stdout",
          "text": [
            "Input the length: 9\n",
            "Input the width: 4\n",
            "\n",
            "The perimeter is: 26\n",
            "The area is: 36\n"
          ]
        }
      ]
    }
  ]
}