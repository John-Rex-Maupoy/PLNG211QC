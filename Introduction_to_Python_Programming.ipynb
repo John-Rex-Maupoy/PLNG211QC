{
  "nbformat": 4,
  "nbformat_minor": 0,
  "metadata": {
    "colab": {
      "provenance": [],
      "authorship_tag": "ABX9TyNRtk4iXL+Uc/wL8PuQ9IB+",
      "include_colab_link": true
    },
    "kernelspec": {
      "name": "python3",
      "display_name": "Python 3"
    },
    "language_info": {
      "name": "python"
    }
  },
  "cells": [
    {
      "cell_type": "markdown",
      "metadata": {
        "id": "view-in-github",
        "colab_type": "text"
      },
      "source": [
        "<a href=\"https://colab.research.google.com/github/John-Rex-Maupoy/PLNG211QC/blob/main/Introduction_to_Python_Programming.ipynb\" target=\"_parent\"><img src=\"https://colab.research.google.com/assets/colab-badge.svg\" alt=\"Open In Colab\"/></a>"
      ]
    },
    {
      "cell_type": "markdown",
      "source": [
        "Python Indentation"
      ],
      "metadata": {
        "id": "J4cRQfbnULXB"
      }
    },
    {
      "cell_type": "code",
      "execution_count": 1,
      "metadata": {
        "colab": {
          "base_uri": "https://localhost:8080/"
        },
        "id": "EL9tALs8nrcw",
        "outputId": "a4fb6b88-ccc1-49cd-9fba-024d3547e8b2"
      },
      "outputs": [
        {
          "output_type": "stream",
          "name": "stdout",
          "text": [
            "Five is greater than two\n",
            "Hello, World\n"
          ]
        }
      ],
      "source": [
        "if 5>2:\n",
        "  print(\"Five is greater than two\")\n",
        "\n",
        "  #This is comment\n",
        "  print(\"Hello, World\")\n"
      ]
    },
    {
      "cell_type": "markdown",
      "source": [
        "Python Variables"
      ],
      "metadata": {
        "id": "eoJXOBUuUYUQ"
      }
    },
    {
      "cell_type": "code",
      "source": [
        "x = 1\n",
        "a,b=0,-1\n",
        "print(a)\n",
        "a = \"Sally\"\n",
        "c = \"Danny\"\n",
        "\n",
        "#Code is read by line so the newer declaration will be read\n",
        "print(c)\n",
        "c = \"Maria\"\n"
      ],
      "metadata": {
        "colab": {
          "base_uri": "https://localhost:8080/"
        },
        "id": "e01CCxwibHjj",
        "outputId": "43e42451-dd75-47ff-f42a-575f88f6a4f8"
      },
      "execution_count": 2,
      "outputs": [
        {
          "output_type": "stream",
          "name": "stdout",
          "text": [
            "0\n",
            "Danny\n"
          ]
        }
      ]
    },
    {
      "cell_type": "code",
      "source": [
        "print(c)\n",
        "#Code cell will print the latest declaration from previous cell."
      ],
      "metadata": {
        "colab": {
          "base_uri": "https://localhost:8080/"
        },
        "id": "6MXcvdy2cekO",
        "outputId": "e6d7df3d-826a-4961-cbd4-4c62939f0077"
      },
      "execution_count": 3,
      "outputs": [
        {
          "output_type": "stream",
          "name": "stdout",
          "text": [
            "Maria\n"
          ]
        }
      ]
    },
    {
      "cell_type": "markdown",
      "source": [
        "Multiple Variables"
      ],
      "metadata": {
        "id": "kudB7otewLMc"
      }
    },
    {
      "cell_type": "code",
      "source": [
        "#Multiple variables with declaration in single line\n",
        "f,g,h=\"one\",\"two\",\"three\"\n",
        "print(f)\n",
        "print(g)\n",
        "print(h)"
      ],
      "metadata": {
        "colab": {
          "base_uri": "https://localhost:8080/"
        },
        "id": "4Gs5_znic6OA",
        "outputId": "b1d70656-d1c0-4fed-9cef-48135fb18ec8"
      },
      "execution_count": 4,
      "outputs": [
        {
          "output_type": "stream",
          "name": "stdout",
          "text": [
            "one\n",
            "two\n",
            "three\n"
          ]
        }
      ]
    },
    {
      "cell_type": "markdown",
      "source": [
        "One Value to Multiple Variables"
      ],
      "metadata": {
        "id": "lTJHjkqKgyHx"
      }
    },
    {
      "cell_type": "code",
      "source": [
        "u=i=o='four'\n",
        "print(u)\n",
        "print(i)\n",
        "print(o)"
      ],
      "metadata": {
        "colab": {
          "base_uri": "https://localhost:8080/"
        },
        "id": "8mniUi_Zgxig",
        "outputId": "686d1df9-0dc3-484f-a378-62a8519be9b2"
      },
      "execution_count": 14,
      "outputs": [
        {
          "output_type": "stream",
          "name": "stdout",
          "text": [
            "four\n",
            "four\n",
            "four\n"
          ]
        }
      ]
    },
    {
      "cell_type": "markdown",
      "source": [
        "Python Casting"
      ],
      "metadata": {
        "id": "rOKcf3E9dRIy"
      }
    },
    {
      "cell_type": "code",
      "source": [
        "#Explicit type of casting\n",
        "#Python need user involvment the variable data into certain type\n",
        "\n",
        "d = int(4)\n",
        "print(d)\n",
        "e = float(4)\n",
        "print(e)\n",
        "f = str(\"Word\")\n",
        "print(f)\n"
      ],
      "metadata": {
        "colab": {
          "base_uri": "https://localhost:8080/"
        },
        "id": "-_GCVpF_dWul",
        "outputId": "9ac9d574-cd44-4126-f334-d14531e928fe"
      },
      "execution_count": 9,
      "outputs": [
        {
          "output_type": "stream",
          "name": "stdout",
          "text": [
            "4\n",
            "4.0\n",
            "Word\n"
          ]
        }
      ]
    },
    {
      "cell_type": "code",
      "source": [
        "#Implicit type of casting\n",
        "d = 4.0\n",
        "e = 4\n",
        "f = \"Word\"\n",
        "print(type(d))\n",
        "print(type(e))\n",
        "print(type(f))"
      ],
      "metadata": {
        "colab": {
          "base_uri": "https://localhost:8080/"
        },
        "id": "dRtjpO_LgLPO",
        "outputId": "12ccfe2b-c325-4b45-c3e0-dce215fc2444"
      },
      "execution_count": 8,
      "outputs": [
        {
          "output_type": "stream",
          "name": "stdout",
          "text": [
            "<class 'float'>\n",
            "<class 'int'>\n",
            "<class 'str'>\n"
          ]
        }
      ]
    },
    {
      "cell_type": "markdown",
      "source": [
        "Output Variables"
      ],
      "metadata": {
        "id": "9FIngMYkhU3U"
      }
    },
    {
      "cell_type": "code",
      "source": [
        "c = 'Python programming'\n",
        "p = 'enjoying'\n",
        "print( c + \" is enjoying\")\n",
        "print( 'Python programming is ' + p)"
      ],
      "metadata": {
        "colab": {
          "base_uri": "https://localhost:8080/"
        },
        "id": "CxQxOwLxhWcm",
        "outputId": "f6e3615f-410b-4d53-cf1c-1168cf5dc6bc"
      },
      "execution_count": 21,
      "outputs": [
        {
          "output_type": "stream",
          "name": "stdout",
          "text": [
            "Python programming is enjoying\n",
            "Python programming is enjoying\n"
          ]
        }
      ]
    },
    {
      "cell_type": "code",
      "source": [
        "#Other Way\n",
        "e = 'Python programming'\n",
        "r = ' is enjoying'\n",
        "z = e+r\n",
        "print(z)"
      ],
      "metadata": {
        "colab": {
          "base_uri": "https://localhost:8080/"
        },
        "id": "zc00IoTCh3Ym",
        "outputId": "218cdb98-6892-466a-a43e-fad74dd8f329"
      },
      "execution_count": 20,
      "outputs": [
        {
          "output_type": "stream",
          "name": "stdout",
          "text": [
            "Python Programming is enjoying\n"
          ]
        }
      ]
    },
    {
      "cell_type": "markdown",
      "source": [
        "Arithmetic Operators"
      ],
      "metadata": {
        "id": "hOVnhdVbjevr"
      }
    },
    {
      "cell_type": "code",
      "source": [
        "n = 5\n",
        "m = 3\n",
        "print(n+m)\n",
        "print(n//m)\n",
        "\n",
        "#Other way\n",
        "n = 6\n",
        "m = 4\n",
        "sum = n+m\n",
        "print(sum)\n",
        "\n"
      ],
      "metadata": {
        "colab": {
          "base_uri": "https://localhost:8080/"
        },
        "id": "X0x8XW5Jjiz-",
        "outputId": "d7539682-4ae5-4ad2-9c99-6b9a069d71bd"
      },
      "execution_count": 24,
      "outputs": [
        {
          "output_type": "stream",
          "name": "stdout",
          "text": [
            "8\n",
            "1\n",
            "10\n"
          ]
        }
      ]
    },
    {
      "cell_type": "markdown",
      "source": [
        "Assignment Operators"
      ],
      "metadata": {
        "id": "gWypLZU2j6vl"
      }
    },
    {
      "cell_type": "code",
      "source": [
        "a,b,c=0,-1,6\n",
        "c%=3\n",
        "print(c)  "
      ],
      "metadata": {
        "colab": {
          "base_uri": "https://localhost:8080/"
        },
        "id": "7T5Y6-fGj9zN",
        "outputId": "06fbce2b-3907-413b-e910-f929260c6ca5"
      },
      "execution_count": 23,
      "outputs": [
        {
          "output_type": "stream",
          "name": "stdout",
          "text": [
            "0\n"
          ]
        }
      ]
    }
  ]
}